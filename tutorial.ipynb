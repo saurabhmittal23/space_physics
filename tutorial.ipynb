{
 "cells": [
  {
   "cell_type": "code",
   "execution_count": 1,
   "id": "8ac8459a",
   "metadata": {},
   "outputs": [],
   "source": [
    "import numpy as np\n",
    "import matplotlib.pyplot as plt"
   ]
  },
  {
   "cell_type": "markdown",
   "id": "d141ba77",
   "metadata": {},
   "source": [
    "# print statements"
   ]
  },
  {
   "cell_type": "code",
   "execution_count": 2,
   "id": "3cf0ef37",
   "metadata": {},
   "outputs": [
    {
     "name": "stdout",
     "output_type": "stream",
     "text": [
      "Hello World!\n"
     ]
    }
   ],
   "source": [
    "print(\"Hello World!\")"
   ]
  },
  {
   "cell_type": "markdown",
   "id": "ede6d59a",
   "metadata": {},
   "source": [
    "# variables"
   ]
  },
  {
   "cell_type": "code",
   "execution_count": 4,
   "id": "106bfab3",
   "metadata": {},
   "outputs": [],
   "source": [
    "x = 1\n",
    "y = 10.52\n",
    "message = \"Hello class!\""
   ]
  },
  {
   "cell_type": "code",
   "execution_count": 5,
   "id": "9bb2ce55",
   "metadata": {},
   "outputs": [
    {
     "data": {
      "text/plain": [
       "1"
      ]
     },
     "execution_count": 5,
     "metadata": {},
     "output_type": "execute_result"
    }
   ],
   "source": [
    "x"
   ]
  },
  {
   "cell_type": "code",
   "execution_count": 6,
   "id": "40a36f5a",
   "metadata": {},
   "outputs": [
    {
     "data": {
      "text/plain": [
       "10.52"
      ]
     },
     "execution_count": 6,
     "metadata": {},
     "output_type": "execute_result"
    }
   ],
   "source": [
    "y"
   ]
  },
  {
   "cell_type": "code",
   "execution_count": 7,
   "id": "be74d735",
   "metadata": {},
   "outputs": [
    {
     "data": {
      "text/plain": [
       "'Hello class!'"
      ]
     },
     "execution_count": 7,
     "metadata": {},
     "output_type": "execute_result"
    }
   ],
   "source": [
    "message"
   ]
  },
  {
   "cell_type": "code",
   "execution_count": 10,
   "id": "0e53a69a",
   "metadata": {},
   "outputs": [
    {
     "data": {
      "text/plain": [
       "11.52"
      ]
     },
     "execution_count": 10,
     "metadata": {},
     "output_type": "execute_result"
    }
   ],
   "source": [
    "x + y"
   ]
  },
  {
   "cell_type": "code",
   "execution_count": 11,
   "id": "7b87fa0f",
   "metadata": {},
   "outputs": [
    {
     "data": {
      "text/plain": [
       "11"
      ]
     },
     "execution_count": 11,
     "metadata": {},
     "output_type": "execute_result"
    }
   ],
   "source": [
    "int(x + y)"
   ]
  },
  {
   "cell_type": "code",
   "execution_count": 12,
   "id": "526a33e4",
   "metadata": {},
   "outputs": [
    {
     "data": {
      "text/plain": [
       "2.0"
      ]
     },
     "execution_count": 12,
     "metadata": {},
     "output_type": "execute_result"
    }
   ],
   "source": [
    "4/2"
   ]
  },
  {
   "cell_type": "code",
   "execution_count": 13,
   "id": "d952dae2",
   "metadata": {},
   "outputs": [
    {
     "data": {
      "text/plain": [
       "1.3333333333333333"
      ]
     },
     "execution_count": 13,
     "metadata": {},
     "output_type": "execute_result"
    }
   ],
   "source": [
    "4/3"
   ]
  },
  {
   "cell_type": "code",
   "execution_count": 14,
   "id": "b0f9dd3a",
   "metadata": {},
   "outputs": [
    {
     "data": {
      "text/plain": [
       "1"
      ]
     },
     "execution_count": 14,
     "metadata": {},
     "output_type": "execute_result"
    }
   ],
   "source": [
    "4%3"
   ]
  },
  {
   "cell_type": "code",
   "execution_count": 15,
   "id": "2c5e5e95",
   "metadata": {},
   "outputs": [
    {
     "data": {
      "text/plain": [
       "(15, 239, 5492)"
      ]
     },
     "execution_count": 15,
     "metadata": {},
     "output_type": "execute_result"
    }
   ],
   "source": [
    "a,b,c = 15, 239, 5492\n",
    "a,b,c"
   ]
  },
  {
   "cell_type": "markdown",
   "id": "74c6f4cf",
   "metadata": {},
   "source": [
    "# numpy and plotting basics"
   ]
  },
  {
   "cell_type": "code",
   "execution_count": 16,
   "id": "5a2a542e",
   "metadata": {},
   "outputs": [],
   "source": [
    "# creating an array from 0 to 9\n",
    "x = np.arange(10)"
   ]
  },
  {
   "cell_type": "code",
   "execution_count": 19,
   "id": "9844e039",
   "metadata": {},
   "outputs": [
    {
     "data": {
      "text/plain": [
       "array([0, 1, 2, 3, 4, 5, 6, 7, 8, 9])"
      ]
     },
     "execution_count": 19,
     "metadata": {},
     "output_type": "execute_result"
    }
   ],
   "source": [
    "x"
   ]
  },
  {
   "cell_type": "markdown",
   "id": "c1c17304",
   "metadata": {},
   "source": [
    "# array indices start at zero in python:"
   ]
  },
  {
   "cell_type": "code",
   "execution_count": 17,
   "id": "2c7b5087",
   "metadata": {},
   "outputs": [
    {
     "data": {
      "text/plain": [
       "0"
      ]
     },
     "execution_count": 17,
     "metadata": {},
     "output_type": "execute_result"
    }
   ],
   "source": [
    "x[0]"
   ]
  },
  {
   "cell_type": "markdown",
   "id": "d7864cfd",
   "metadata": {},
   "source": [
    "# array index ranges go from first index to second-to-last:"
   ]
  },
  {
   "cell_type": "code",
   "execution_count": 20,
   "id": "a6fa0d71",
   "metadata": {},
   "outputs": [
    {
     "data": {
      "text/plain": [
       "array([0, 1, 2])"
      ]
     },
     "execution_count": 20,
     "metadata": {},
     "output_type": "execute_result"
    }
   ],
   "source": [
    "x[0:3] # last index is not included!"
   ]
  },
  {
   "cell_type": "code",
   "execution_count": 21,
   "id": "50b54e82",
   "metadata": {},
   "outputs": [
    {
     "data": {
      "text/plain": [
       "array([3, 4, 5, 6])"
      ]
     },
     "execution_count": 21,
     "metadata": {},
     "output_type": "execute_result"
    }
   ],
   "source": [
    "x[3:7]"
   ]
  },
  {
   "cell_type": "markdown",
   "id": "5eb457d4",
   "metadata": {},
   "source": [
    "# arrays are used in a vectorised way; this avoids for-loops:"
   ]
  },
  {
   "cell_type": "code",
   "execution_count": 22,
   "id": "bf755b2b",
   "metadata": {},
   "outputs": [],
   "source": [
    "y = x + 10"
   ]
  },
  {
   "cell_type": "code",
   "execution_count": 23,
   "id": "3de5177c",
   "metadata": {},
   "outputs": [
    {
     "data": {
      "text/plain": [
       "array([10, 11, 12, 13, 14, 15, 16, 17, 18, 19])"
      ]
     },
     "execution_count": 23,
     "metadata": {},
     "output_type": "execute_result"
    }
   ],
   "source": [
    "y"
   ]
  },
  {
   "cell_type": "code",
   "execution_count": 24,
   "id": "4150d48f",
   "metadata": {},
   "outputs": [],
   "source": [
    "y2 = -3*(x-5)**2 - 4"
   ]
  },
  {
   "cell_type": "code",
   "execution_count": 25,
   "id": "27631f89",
   "metadata": {},
   "outputs": [
    {
     "data": {
      "text/plain": [
       "array([-79, -52, -31, -16,  -7,  -4,  -7, -16, -31, -52])"
      ]
     },
     "execution_count": 25,
     "metadata": {},
     "output_type": "execute_result"
    }
   ],
   "source": [
    "y2"
   ]
  },
  {
   "cell_type": "markdown",
   "id": "268bcc7a",
   "metadata": {},
   "source": [
    "# python functions as defined by a def statement:"
   ]
  },
  {
   "cell_type": "code",
   "execution_count": 26,
   "id": "00f8e067",
   "metadata": {},
   "outputs": [],
   "source": [
    "def func(x,a,b,c):\n",
    "    return a + b*x + c*x**2 "
   ]
  },
  {
   "cell_type": "code",
   "execution_count": 27,
   "id": "b68a0a3a",
   "metadata": {},
   "outputs": [],
   "source": [
    "y3 = func(x,1,2,3)"
   ]
  },
  {
   "cell_type": "code",
   "execution_count": 28,
   "id": "ce4d064c",
   "metadata": {},
   "outputs": [
    {
     "data": {
      "text/plain": [
       "array([  1,   6,  17,  34,  57,  86, 121, 162, 209, 262])"
      ]
     },
     "execution_count": 28,
     "metadata": {},
     "output_type": "execute_result"
    }
   ],
   "source": [
    "y3"
   ]
  },
  {
   "cell_type": "markdown",
   "id": "18f8bac6",
   "metadata": {},
   "source": [
    "# the same function but with an array of parameters:"
   ]
  },
  {
   "cell_type": "code",
   "execution_count": 29,
   "id": "5c775796",
   "metadata": {},
   "outputs": [],
   "source": [
    "def func_vec(x,p):\n",
    "    return p[0] + p[1]*x + p[2]*x**2"
   ]
  },
  {
   "cell_type": "code",
   "execution_count": 30,
   "id": "c12ccfd6",
   "metadata": {},
   "outputs": [],
   "source": [
    "y4 = func_vec(x,[1,2,3])"
   ]
  },
  {
   "cell_type": "code",
   "execution_count": 31,
   "id": "0d094bef",
   "metadata": {},
   "outputs": [
    {
     "data": {
      "text/plain": [
       "array([0, 0, 0, 0, 0, 0, 0, 0, 0, 0])"
      ]
     },
     "execution_count": 31,
     "metadata": {},
     "output_type": "execute_result"
    }
   ],
   "source": [
    "y4-y3"
   ]
  },
  {
   "cell_type": "markdown",
   "id": "5f2223e8",
   "metadata": {},
   "source": [
    "# There is a difference between arrays, vectors, and lists in python;\n",
    "# lists are collections of numbers, strings, objects, arrays, others lists, ..., e.g.:"
   ]
  },
  {
   "cell_type": "code",
   "execution_count": 32,
   "id": "608944dc",
   "metadata": {},
   "outputs": [],
   "source": [
    "b = [1,'y6',np.linspace(0,1,5),['a','b']]"
   ]
  },
  {
   "cell_type": "markdown",
   "id": "35e0def4",
   "metadata": {},
   "source": [
    "# b[0] is an iteger\n",
    "# b[1] is a string\n",
    "# b[2] is a whole numpy array\n",
    "# b[3] is another list, containing two strings"
   ]
  },
  {
   "cell_type": "code",
   "execution_count": 33,
   "id": "e563e43f",
   "metadata": {},
   "outputs": [
    {
     "data": {
      "text/plain": [
       "array([0.  , 0.25, 0.5 , 0.75, 1.  ])"
      ]
     },
     "execution_count": 33,
     "metadata": {},
     "output_type": "execute_result"
    }
   ],
   "source": [
    "b[2]"
   ]
  },
  {
   "cell_type": "code",
   "execution_count": 34,
   "id": "7432a785",
   "metadata": {},
   "outputs": [
    {
     "data": {
      "text/plain": [
       "['a', 'b']"
      ]
     },
     "execution_count": 34,
     "metadata": {},
     "output_type": "execute_result"
    }
   ],
   "source": [
    "b[3]"
   ]
  },
  {
   "cell_type": "code",
   "execution_count": 35,
   "id": "2a768815",
   "metadata": {},
   "outputs": [
    {
     "data": {
      "text/plain": [
       "'a'"
      ]
     },
     "execution_count": 35,
     "metadata": {},
     "output_type": "execute_result"
    }
   ],
   "source": [
    "b[3][0]"
   ]
  },
  {
   "cell_type": "code",
   "execution_count": null,
   "id": "39225eda",
   "metadata": {},
   "outputs": [],
   "source": []
  }
 ],
 "metadata": {
  "kernelspec": {
   "display_name": "Python 3 (ipykernel)",
   "language": "python",
   "name": "python3"
  },
  "language_info": {
   "codemirror_mode": {
    "name": "ipython",
    "version": 3
   },
   "file_extension": ".py",
   "mimetype": "text/x-python",
   "name": "python",
   "nbconvert_exporter": "python",
   "pygments_lexer": "ipython3",
   "version": "3.8.1"
  }
 },
 "nbformat": 4,
 "nbformat_minor": 5
}
