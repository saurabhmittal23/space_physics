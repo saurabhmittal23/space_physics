{
 "cells": [
  {
   "cell_type": "code",
   "execution_count": 409,
   "id": "26c29b73",
   "metadata": {},
   "outputs": [],
   "source": [
    "# packages we import/use typically in this course\n",
    "import numpy as np\n",
    "import matplotlib.pyplot as plt\n",
    "from scipy.integrate import quad"
   ]
  },
  {
   "cell_type": "markdown",
   "id": "94caee72",
   "metadata": {},
   "source": [
    "# print statements"
   ]
  },
  {
   "cell_type": "code",
   "execution_count": 410,
   "id": "2ff502a7",
   "metadata": {},
   "outputs": [
    {
     "name": "stdout",
     "output_type": "stream",
     "text": [
      "Hello World!\n"
     ]
    }
   ],
   "source": [
    "print(\"Hello World!\")"
   ]
  },
  {
   "cell_type": "markdown",
   "id": "dcbd4e41",
   "metadata": {},
   "source": [
    "# variables"
   ]
  },
  {
   "cell_type": "code",
   "execution_count": 6,
   "id": "49cc1d7d",
   "metadata": {},
   "outputs": [],
   "source": [
    "x = 1 #integer\n",
    "y = 10.52 #float\n",
    "message = \"Hello class!\" #string"
   ]
  },
  {
   "cell_type": "code",
   "execution_count": 7,
   "id": "ea8f1fc9",
   "metadata": {},
   "outputs": [
    {
     "data": {
      "text/plain": [
       "1"
      ]
     },
     "execution_count": 7,
     "metadata": {},
     "output_type": "execute_result"
    }
   ],
   "source": [
    "x"
   ]
  },
  {
   "cell_type": "code",
   "execution_count": 8,
   "id": "80634096",
   "metadata": {},
   "outputs": [
    {
     "data": {
      "text/plain": [
       "10.52"
      ]
     },
     "execution_count": 8,
     "metadata": {},
     "output_type": "execute_result"
    }
   ],
   "source": [
    "y"
   ]
  },
  {
   "cell_type": "code",
   "execution_count": 9,
   "id": "e5ce14aa",
   "metadata": {},
   "outputs": [
    {
     "data": {
      "text/plain": [
       "'Hello class!'"
      ]
     },
     "execution_count": 9,
     "metadata": {},
     "output_type": "execute_result"
    }
   ],
   "source": [
    "message"
   ]
  },
  {
   "cell_type": "code",
   "execution_count": 10,
   "id": "44ff23e7",
   "metadata": {},
   "outputs": [
    {
     "data": {
      "text/plain": [
       "11.52"
      ]
     },
     "execution_count": 10,
     "metadata": {},
     "output_type": "execute_result"
    }
   ],
   "source": [
    "x + y #perform operations. always the bigger data type"
   ]
  },
  {
   "cell_type": "code",
   "execution_count": 11,
   "id": "a44847d6",
   "metadata": {},
   "outputs": [
    {
     "data": {
      "text/plain": [
       "11"
      ]
     },
     "execution_count": 11,
     "metadata": {},
     "output_type": "execute_result"
    }
   ],
   "source": [
    "int(x + y) #can force change data type"
   ]
  },
  {
   "cell_type": "code",
   "execution_count": 12,
   "id": "ca80fc31",
   "metadata": {},
   "outputs": [
    {
     "data": {
      "text/plain": [
       "2.0"
      ]
     },
     "execution_count": 12,
     "metadata": {},
     "output_type": "execute_result"
    }
   ],
   "source": [
    "4/2 "
   ]
  },
  {
   "cell_type": "code",
   "execution_count": 13,
   "id": "fcda8a87",
   "metadata": {},
   "outputs": [
    {
     "data": {
      "text/plain": [
       "1.3333333333333333"
      ]
     },
     "execution_count": 13,
     "metadata": {},
     "output_type": "execute_result"
    }
   ],
   "source": [
    "4/3"
   ]
  },
  {
   "cell_type": "code",
   "execution_count": 14,
   "id": "4ef74148",
   "metadata": {},
   "outputs": [
    {
     "data": {
      "text/plain": [
       "1"
      ]
     },
     "execution_count": 14,
     "metadata": {},
     "output_type": "execute_result"
    }
   ],
   "source": [
    "4%3 #returns the remainder"
   ]
  },
  {
   "cell_type": "code",
   "execution_count": 15,
   "id": "ce7cb1a5",
   "metadata": {},
   "outputs": [
    {
     "data": {
      "text/plain": [
       "(15, 239, 5492)"
      ]
     },
     "execution_count": 15,
     "metadata": {},
     "output_type": "execute_result"
    }
   ],
   "source": [
    "a,b,c = 15, 239, 5492 #can initialize multiple variables at once\n",
    "a,b,c"
   ]
  },
  {
   "cell_type": "markdown",
   "id": "ec9f8986",
   "metadata": {},
   "source": [
    "# numpy and plotting basics"
   ]
  },
  {
   "cell_type": "code",
   "execution_count": 414,
   "id": "9b7efcf7",
   "metadata": {},
   "outputs": [],
   "source": [
    "# creating an array from 0 to 19 \n",
    "x = np.arange(20, step = 1.)"
   ]
  },
  {
   "cell_type": "code",
   "execution_count": 415,
   "id": "a08e98aa",
   "metadata": {},
   "outputs": [
    {
     "data": {
      "text/plain": [
       "array([ 0.,  1.,  2.,  3.,  4.,  5.,  6.,  7.,  8.,  9., 10., 11., 12.,\n",
       "       13., 14., 15., 16., 17., 18., 19.])"
      ]
     },
     "execution_count": 415,
     "metadata": {},
     "output_type": "execute_result"
    }
   ],
   "source": [
    "x"
   ]
  },
  {
   "cell_type": "markdown",
   "id": "07bfd5c6",
   "metadata": {},
   "source": [
    "# array indices start at zero in python:"
   ]
  },
  {
   "cell_type": "code",
   "execution_count": 416,
   "id": "42b95ace",
   "metadata": {},
   "outputs": [
    {
     "data": {
      "text/plain": [
       "0.0"
      ]
     },
     "execution_count": 416,
     "metadata": {},
     "output_type": "execute_result"
    }
   ],
   "source": [
    "x[0] #first array element"
   ]
  },
  {
   "cell_type": "markdown",
   "id": "12d257b4",
   "metadata": {},
   "source": [
    "# array index ranges go from first index to second-to-last:"
   ]
  },
  {
   "cell_type": "code",
   "execution_count": 418,
   "id": "692a77d6",
   "metadata": {},
   "outputs": [
    {
     "data": {
      "text/plain": [
       "array([0., 1., 2.])"
      ]
     },
     "execution_count": 418,
     "metadata": {},
     "output_type": "execute_result"
    }
   ],
   "source": [
    "x[0:3] # last index is not included!"
   ]
  },
  {
   "cell_type": "code",
   "execution_count": 419,
   "id": "6530947f",
   "metadata": {},
   "outputs": [
    {
     "data": {
      "text/plain": [
       "array([3., 4., 5., 6.])"
      ]
     },
     "execution_count": 419,
     "metadata": {},
     "output_type": "execute_result"
    }
   ],
   "source": [
    "x[3:7]"
   ]
  },
  {
   "cell_type": "markdown",
   "id": "5e580de0",
   "metadata": {},
   "source": [
    "# arrays are used in a vectorised way; this avoids for-loops:"
   ]
  },
  {
   "cell_type": "code",
   "execution_count": 420,
   "id": "23377174",
   "metadata": {},
   "outputs": [],
   "source": [
    "y = x + 10"
   ]
  },
  {
   "cell_type": "code",
   "execution_count": 421,
   "id": "57de1237",
   "metadata": {},
   "outputs": [
    {
     "data": {
      "text/plain": [
       "array([10., 11., 12., 13., 14., 15., 16., 17., 18., 19., 20., 21., 22.,\n",
       "       23., 24., 25., 26., 27., 28., 29.])"
      ]
     },
     "execution_count": 421,
     "metadata": {},
     "output_type": "execute_result"
    }
   ],
   "source": [
    "y"
   ]
  },
  {
   "cell_type": "code",
   "execution_count": 422,
   "id": "4fd030df",
   "metadata": {},
   "outputs": [],
   "source": [
    "y2 = -3*(x-5)**2 - 4"
   ]
  },
  {
   "cell_type": "code",
   "execution_count": 423,
   "id": "2a23f729",
   "metadata": {},
   "outputs": [
    {
     "data": {
      "text/plain": [
       "array([ -79.,  -52.,  -31.,  -16.,   -7.,   -4.,   -7.,  -16.,  -31.,\n",
       "        -52.,  -79., -112., -151., -196., -247., -304., -367., -436.,\n",
       "       -511., -592.])"
      ]
     },
     "execution_count": 423,
     "metadata": {},
     "output_type": "execute_result"
    }
   ],
   "source": [
    "y2"
   ]
  },
  {
   "cell_type": "markdown",
   "id": "2760a42d",
   "metadata": {},
   "source": [
    "# python functions as defined by a def statement:"
   ]
  },
  {
   "cell_type": "code",
   "execution_count": 266,
   "id": "e8d8fb06",
   "metadata": {},
   "outputs": [],
   "source": [
    "def func(x,a,b,c):\n",
    "    return a + b*x + c*x**2 "
   ]
  },
  {
   "cell_type": "code",
   "execution_count": 372,
   "id": "437b56eb",
   "metadata": {},
   "outputs": [],
   "source": [
    "y3 = func(x,1,2,3)"
   ]
  },
  {
   "cell_type": "code",
   "execution_count": 373,
   "id": "9aae5fb7",
   "metadata": {},
   "outputs": [
    {
     "data": {
      "text/plain": [
       "array([   1,    6,   17,   34,   57,   86,  121,  162,  209,  262,  321,\n",
       "        386,  457,  534,  617,  706,  801,  902, 1009, 1122])"
      ]
     },
     "execution_count": 373,
     "metadata": {},
     "output_type": "execute_result"
    }
   ],
   "source": [
    "y3"
   ]
  },
  {
   "cell_type": "markdown",
   "id": "81db3dbf",
   "metadata": {},
   "source": [
    "# the same function but with an array of parameters:"
   ]
  },
  {
   "cell_type": "code",
   "execution_count": 269,
   "id": "0a292718",
   "metadata": {},
   "outputs": [],
   "source": [
    "def func_vec(x,p):\n",
    "    return p[0] + p[1]*x + p[2]*x**2"
   ]
  },
  {
   "cell_type": "code",
   "execution_count": 270,
   "id": "dc8b6e34",
   "metadata": {},
   "outputs": [],
   "source": [
    "y4 = func_vec(x,[1,2,3])"
   ]
  },
  {
   "cell_type": "code",
   "execution_count": 271,
   "id": "06cae4ef",
   "metadata": {},
   "outputs": [
    {
     "data": {
      "text/plain": [
       "array([0, 0, 0, 0, 0, 0, 0, 0, 0, 0, 0, 0, 0, 0, 0, 0, 0, 0, 0, 0])"
      ]
     },
     "execution_count": 271,
     "metadata": {},
     "output_type": "execute_result"
    }
   ],
   "source": [
    "y4-y3"
   ]
  },
  {
   "cell_type": "markdown",
   "id": "9ac34715",
   "metadata": {},
   "source": [
    "# There is a difference between arrays, vectors, and lists in python;\n",
    "# lists are collections of numbers, strings, objects, arrays, others lists, ..., e.g.:"
   ]
  },
  {
   "cell_type": "code",
   "execution_count": 32,
   "id": "dd890282",
   "metadata": {},
   "outputs": [],
   "source": [
    "b = [1,'y6',np.linspace(0,1,5),['a','b']]"
   ]
  },
  {
   "cell_type": "markdown",
   "id": "f7988086",
   "metadata": {},
   "source": [
    "# b[0] is an iteger\n",
    "# b[1] is a string\n",
    "# b[2] is a whole numpy array\n",
    "# b[3] is another list, containing two strings"
   ]
  },
  {
   "cell_type": "code",
   "execution_count": 33,
   "id": "66b4f601",
   "metadata": {},
   "outputs": [
    {
     "data": {
      "text/plain": [
       "array([0.  , 0.25, 0.5 , 0.75, 1.  ])"
      ]
     },
     "execution_count": 33,
     "metadata": {},
     "output_type": "execute_result"
    }
   ],
   "source": [
    "b[2]"
   ]
  },
  {
   "cell_type": "code",
   "execution_count": 34,
   "id": "96269d96",
   "metadata": {},
   "outputs": [
    {
     "data": {
      "text/plain": [
       "['a', 'b']"
      ]
     },
     "execution_count": 34,
     "metadata": {},
     "output_type": "execute_result"
    }
   ],
   "source": [
    "b[3]"
   ]
  },
  {
   "cell_type": "code",
   "execution_count": 35,
   "id": "7a50726d",
   "metadata": {},
   "outputs": [
    {
     "data": {
      "text/plain": [
       "'a'"
      ]
     },
     "execution_count": 35,
     "metadata": {},
     "output_type": "execute_result"
    }
   ],
   "source": [
    "b[3][0]"
   ]
  },
  {
   "cell_type": "markdown",
   "id": "da4853e5",
   "metadata": {},
   "source": [
    "# data can be added to a list"
   ]
  },
  {
   "cell_type": "code",
   "execution_count": 51,
   "id": "6793dfb2",
   "metadata": {},
   "outputs": [],
   "source": [
    "b.append(\"add element\")"
   ]
  },
  {
   "cell_type": "code",
   "execution_count": 53,
   "id": "355ec25c",
   "metadata": {},
   "outputs": [
    {
     "data": {
      "text/plain": [
       "'add element'"
      ]
     },
     "execution_count": 53,
     "metadata": {},
     "output_type": "execute_result"
    }
   ],
   "source": [
    "b[4]"
   ]
  },
  {
   "cell_type": "markdown",
   "id": "72b4af51",
   "metadata": {},
   "source": [
    "# another important object in python are dictionaries;\n",
    "# these contain identifiers (class names) which are then including some kind of information (data):"
   ]
  },
  {
   "cell_type": "code",
   "execution_count": 36,
   "id": "5c0e230d",
   "metadata": {},
   "outputs": [],
   "source": [
    "diary = {'name':['first','second','third'],\n",
    "        'age':np.array([45,23,-67]),\n",
    "        'coordinates':np.array([[1,2],[3,4],[5,np.pi]])}"
   ]
  },
  {
   "cell_type": "code",
   "execution_count": 37,
   "id": "d5576db2",
   "metadata": {},
   "outputs": [
    {
     "data": {
      "text/plain": [
       "['first', 'second', 'third']"
      ]
     },
     "execution_count": 37,
     "metadata": {},
     "output_type": "execute_result"
    }
   ],
   "source": [
    "diary['name']"
   ]
  },
  {
   "cell_type": "code",
   "execution_count": 39,
   "id": "95ad1ae1",
   "metadata": {},
   "outputs": [
    {
     "data": {
      "text/plain": [
       "23"
      ]
     },
     "execution_count": 39,
     "metadata": {},
     "output_type": "execute_result"
    }
   ],
   "source": [
    "diary['age'][1]"
   ]
  },
  {
   "cell_type": "code",
   "execution_count": 40,
   "id": "878cf5db",
   "metadata": {},
   "outputs": [
    {
     "data": {
      "text/plain": [
       "array([5.        , 3.14159265])"
      ]
     },
     "execution_count": 40,
     "metadata": {},
     "output_type": "execute_result"
    }
   ],
   "source": [
    "diary['coordinates'][2]"
   ]
  },
  {
   "cell_type": "markdown",
   "id": "a625d261",
   "metadata": {},
   "source": [
    "# Let's plot our arrays in an x/y plot:"
   ]
  },
  {
   "cell_type": "code",
   "execution_count": 424,
   "id": "d5f017b3",
   "metadata": {},
   "outputs": [
    {
     "data": {
      "text/plain": [
       "[<matplotlib.lines.Line2D at 0x7fdde2baa490>]"
      ]
     },
     "execution_count": 424,
     "metadata": {},
     "output_type": "execute_result"
    },
    {
     "data": {
      "image/png": "[encoded data removed]",
      "text/plain": [
       "<Figure size 640x480 with 1 Axes>"
      ]
     },
     "metadata": {},
     "output_type": "display_data"
    }
   ],
   "source": [
    "# basic\n",
    "plt.plot(x,y)"
   ]
  },
  {
   "cell_type": "code",
   "execution_count": 425,
   "id": "cadd9b92",
   "metadata": {},
   "outputs": [
    {
     "data": {
      "text/plain": [
       "Text(0, 0.5, 'y')"
      ]
     },
     "execution_count": 425,
     "metadata": {},
     "output_type": "execute_result"
    },
    {
     "data": {
      "image/png": "[encoded data removed]",
      "text/plain": [
       "<Figure size 640x480 with 1 Axes>"
      ]
     },
     "metadata": {},
     "output_type": "display_data"
    }
   ],
   "source": [
    "# with more information, just add lines:\n",
    "plt.plot(x,y,\n",
    "         color='black',marker='o',linestyle='-')\n",
    "plt.xlabel('x')\n",
    "plt.ylabel('y')"
   ]
  },
  {
   "cell_type": "markdown",
   "id": "41ff3514",
   "metadata": {},
   "source": [
    "# overplotting: just add more plotting commands; here, the lines get names (labels):"
   ]
  },
  {
   "cell_type": "code",
   "execution_count": 426,
   "id": "318e2494",
   "metadata": {},
   "outputs": [
    {
     "data": {
      "text/plain": [
       "<matplotlib.legend.Legend at 0x7fdde01967f0>"
      ]
     },
     "execution_count": 426,
     "metadata": {},
     "output_type": "execute_result"
    },
    {
     "data": {
      "image/png": "[encoded data removed]",
      "text/plain": [
       "<Figure size 640x480 with 1 Axes>"
      ]
     },
     "metadata": {},
     "output_type": "display_data"
    }
   ],
   "source": [
    "plt.plot(x,y,'ko-',label='y')\n",
    "plt.plot(x,y2,'ro-',label='y2')\n",
    "plt.plot(x,y3,'bo-',label='y3')\n",
    "plt.legend()"
   ]
  },
  {
   "cell_type": "markdown",
   "id": "d0402419",
   "metadata": {},
   "source": [
    "# to save a figure as pdf, for example, use savefig():"
   ]
  },
  {
   "cell_type": "code",
   "execution_count": 427,
   "id": "52505998",
   "metadata": {},
   "outputs": [
    {
     "data": {
      "image/png": "[encoded data removed]",
      "text/plain": [
       "<Figure size 640x480 with 1 Axes>"
      ]
     },
     "metadata": {},
     "output_type": "display_data"
    }
   ],
   "source": [
    "plt.plot(x,y,'*',color='orange')\n",
    "plt.xlabel('x-values')\n",
    "plt.ylabel('y-values')\n",
    "plt.xlim(-2,11)\n",
    "plt.ylim(0,30)\n",
    "plt.savefig('test_fig.pdf')"
   ]
  },
  {
   "cell_type": "markdown",
   "id": "915b6e25",
   "metadata": {},
   "source": [
    "# if else statements"
   ]
  },
  {
   "cell_type": "code",
   "execution_count": 472,
   "id": "b3583674",
   "metadata": {},
   "outputs": [],
   "source": [
    "numbers = [10, 50, 225, 375, 92] # a list of numbers"
   ]
  },
  {
   "cell_type": "code",
   "execution_count": 473,
   "id": "a08ed600",
   "metadata": {},
   "outputs": [],
   "source": [
    "test = 92 #test number to find in the list 'numbers'"
   ]
  },
  {
   "cell_type": "code",
   "execution_count": 474,
   "id": "d8baa140",
   "metadata": {},
   "outputs": [
    {
     "name": "stdout",
     "output_type": "stream",
     "text": [
      "Number 92 is present in the list\n",
      "Well done\n"
     ]
    }
   ],
   "source": [
    "#condition check\n",
    "if(test in numbers):\n",
    "    print(f'Number {test} is present in the list')\n",
    "    print('Well done')\n",
    "else:\n",
    "    print('Number {} is absent from the list.'.format(test))\n",
    "    print('Please try again!')"
   ]
  },
  {
   "cell_type": "code",
   "execution_count": 475,
   "id": "a454e85e",
   "metadata": {},
   "outputs": [
    {
     "name": "stdout",
     "output_type": "stream",
     "text": [
      "Number 92 is present in the list\n",
      "Well done\n",
      "Please try again!\n"
     ]
    }
   ],
   "source": [
    "if(test in numbers):\n",
    "    print(f'Number {test} is present in the list')\n",
    "    print('Well done')\n",
    "else:\n",
    "    print('Number {} is absent from the list.'.format(test))\n",
    "print('Please try again!') #indentation matters"
   ]
  },
  {
   "cell_type": "code",
   "execution_count": 476,
   "id": "0b237394",
   "metadata": {},
   "outputs": [
    {
     "data": {
      "text/plain": [
       "[10, 50, 92, 225, 375]"
      ]
     },
     "execution_count": 476,
     "metadata": {},
     "output_type": "execute_result"
    }
   ],
   "source": [
    "sorted(numbers) # temporarily sorts a list"
   ]
  },
  {
   "cell_type": "code",
   "execution_count": 477,
   "id": "21ff46c3",
   "metadata": {},
   "outputs": [
    {
     "data": {
      "text/plain": [
       "[10, 50, 225, 375, 92]"
      ]
     },
     "execution_count": 477,
     "metadata": {},
     "output_type": "execute_result"
    }
   ],
   "source": [
    "numbers"
   ]
  },
  {
   "cell_type": "code",
   "execution_count": 478,
   "id": "794e1739",
   "metadata": {},
   "outputs": [
    {
     "name": "stdout",
     "output_type": "stream",
     "text": [
      "list is not sorted\n"
     ]
    }
   ],
   "source": [
    "if numbers == sorted(numbers):\n",
    "    print('list is sorted')\n",
    "else:\n",
    "    print('list is not sorted')"
   ]
  },
  {
   "cell_type": "code",
   "execution_count": 479,
   "id": "dd72bf93",
   "metadata": {},
   "outputs": [],
   "source": [
    "numbers.sort() #permanently sorts a list"
   ]
  },
  {
   "cell_type": "code",
   "execution_count": 480,
   "id": "fad52687",
   "metadata": {},
   "outputs": [
    {
     "data": {
      "text/plain": [
       "[10, 50, 92, 225, 375]"
      ]
     },
     "execution_count": 480,
     "metadata": {},
     "output_type": "execute_result"
    }
   ],
   "source": [
    "numbers"
   ]
  },
  {
   "cell_type": "code",
   "execution_count": 484,
   "id": "8ccfa58a",
   "metadata": {},
   "outputs": [],
   "source": [
    "letters = ['s', 'a', 'u' , 'r', 'a', 'b', 'h', 'S', 'A']"
   ]
  },
  {
   "cell_type": "code",
   "execution_count": 485,
   "id": "ed7235b7",
   "metadata": {},
   "outputs": [
    {
     "data": {
      "text/plain": [
       "['A', 'S', 'a', 'a', 'b', 'h', 'r', 's', 'u']"
      ]
     },
     "execution_count": 485,
     "metadata": {},
     "output_type": "execute_result"
    }
   ],
   "source": [
    "sorted(letters)"
   ]
  },
  {
   "cell_type": "markdown",
   "id": "ebc84483",
   "metadata": {},
   "source": [
    "# loops"
   ]
  },
  {
   "cell_type": "code",
   "execution_count": 493,
   "id": "2877d4b8",
   "metadata": {},
   "outputs": [],
   "source": [
    "numbers = [10, 50, 225, 375, 92, 108, 1000543, 2**16] # a list of numbers"
   ]
  },
  {
   "cell_type": "code",
   "execution_count": 494,
   "id": "e6826b50",
   "metadata": {},
   "outputs": [
    {
     "name": "stdout",
     "output_type": "stream",
     "text": [
      "10\n",
      "50\n",
      "225\n",
      "375\n",
      "92\n",
      "108\n",
      "1000543\n",
      "65536\n"
     ]
    }
   ],
   "source": [
    "for i in range(0, len(numbers)): #a for loop iterates once over every element of a collection of elements\n",
    "    print(numbers[i])"
   ]
  },
  {
   "cell_type": "code",
   "execution_count": 497,
   "id": "80023651",
   "metadata": {},
   "outputs": [],
   "source": [
    "for i in range(0, len(numbers)):\n",
    "    while numbers[i] % 2 == 0: #while loop continues as long as (while) the condition is true\n",
    "        numbers[i] /= 2"
   ]
  },
  {
   "cell_type": "code",
   "execution_count": 498,
   "id": "4fbf8190",
   "metadata": {},
   "outputs": [
    {
     "data": {
      "text/plain": [
       "[5.0, 25.0, 225, 375, 23.0, 27.0, 1000543, 1.0]"
      ]
     },
     "execution_count": 498,
     "metadata": {},
     "output_type": "execute_result"
    }
   ],
   "source": [
    "numbers"
   ]
  },
  {
   "cell_type": "code",
   "execution_count": null,
   "id": "b2d26b27",
   "metadata": {},
   "outputs": [],
   "source": []
  },
  {
   "cell_type": "code",
   "execution_count": null,
   "id": "7fd25f9d",
   "metadata": {},
   "outputs": [],
   "source": []
  },
  {
   "cell_type": "code",
   "execution_count": null,
   "id": "b17a77dc",
   "metadata": {},
   "outputs": [],
   "source": []
  },
  {
   "cell_type": "code",
   "execution_count": null,
   "id": "e1986c8e",
   "metadata": {},
   "outputs": [],
   "source": []
  },
  {
   "cell_type": "markdown",
   "id": "5f3e61e9",
   "metadata": {},
   "source": [
    "# integrate"
   ]
  },
  {
   "cell_type": "code",
   "execution_count": 374,
   "id": "6b916850",
   "metadata": {},
   "outputs": [],
   "source": [
    "xgrad = np.diff(x)"
   ]
  },
  {
   "cell_type": "code",
   "execution_count": 375,
   "id": "f495745a",
   "metadata": {},
   "outputs": [
    {
     "data": {
      "text/plain": [
       "7248.5"
      ]
     },
     "execution_count": 375,
     "metadata": {},
     "output_type": "execute_result"
    }
   ],
   "source": [
    "np.sum(xgrad*(y3[:-1] + np.diff(y3)/2))"
   ]
  },
  {
   "cell_type": "code",
   "execution_count": 382,
   "id": "fa68c6e6",
   "metadata": {},
   "outputs": [
    {
     "data": {
      "text/plain": [
       "7248.5"
      ]
     },
     "execution_count": 382,
     "metadata": {},
     "output_type": "execute_result"
    }
   ],
   "source": [
    "np.trapz(y3,x)"
   ]
  },
  {
   "cell_type": "code",
   "execution_count": 377,
   "id": "47bbc2dc",
   "metadata": {},
   "outputs": [],
   "source": [
    "from scipy.integrate import quad "
   ]
  },
  {
   "cell_type": "code",
   "execution_count": 378,
   "id": "12b64243",
   "metadata": {},
   "outputs": [],
   "source": [
    "def integrand(x,a,b,c):\n",
    "    return a + b*x + c*x**2"
   ]
  },
  {
   "cell_type": "code",
   "execution_count": 390,
   "id": "9067760b",
   "metadata": {},
   "outputs": [
    {
     "ename": "ValueError",
     "evalue": "invalid callable given",
     "output_type": "error",
     "traceback": [
      "\u001b[0;31m---------------------------------------------------------------------------\u001b[0m",
      "\u001b[0;31mValueError\u001b[0m                                Traceback (most recent call last)",
      "Cell \u001b[0;32mIn[390], line 1\u001b[0m\n\u001b[0;32m----> 1\u001b[0m integral, _ \u001b[38;5;241m=\u001b[39m \u001b[43mquad\u001b[49m\u001b[43m(\u001b[49m\u001b[43my3\u001b[49m\u001b[43m,\u001b[49m\u001b[43m \u001b[49m\u001b[38;5;28;43mmin\u001b[39;49m\u001b[43m(\u001b[49m\u001b[43mx\u001b[49m\u001b[43m)\u001b[49m\u001b[43m,\u001b[49m\u001b[43m \u001b[49m\u001b[38;5;28;43mmax\u001b[39;49m\u001b[43m(\u001b[49m\u001b[43mx\u001b[49m\u001b[43m)\u001b[49m\u001b[43m)\u001b[49m\n",
      "File \u001b[0;32m/Library/Frameworks/Python.framework/Versions/3.8/lib/python3.8/site-packages/scipy/integrate/_quadpack_py.py:463\u001b[0m, in \u001b[0;36mquad\u001b[0;34m(func, a, b, args, full_output, epsabs, epsrel, limit, points, weight, wvar, wopts, maxp1, limlst, complex_func)\u001b[0m\n\u001b[1;32m    460\u001b[0m     \u001b[38;5;28;01mreturn\u001b[39;00m retval\n\u001b[1;32m    462\u001b[0m \u001b[38;5;28;01mif\u001b[39;00m weight \u001b[38;5;129;01mis\u001b[39;00m \u001b[38;5;28;01mNone\u001b[39;00m:\n\u001b[0;32m--> 463\u001b[0m     retval \u001b[38;5;241m=\u001b[39m \u001b[43m_quad\u001b[49m\u001b[43m(\u001b[49m\u001b[43mfunc\u001b[49m\u001b[43m,\u001b[49m\u001b[43m \u001b[49m\u001b[43ma\u001b[49m\u001b[43m,\u001b[49m\u001b[43m \u001b[49m\u001b[43mb\u001b[49m\u001b[43m,\u001b[49m\u001b[43m \u001b[49m\u001b[43margs\u001b[49m\u001b[43m,\u001b[49m\u001b[43m \u001b[49m\u001b[43mfull_output\u001b[49m\u001b[43m,\u001b[49m\u001b[43m \u001b[49m\u001b[43mepsabs\u001b[49m\u001b[43m,\u001b[49m\u001b[43m \u001b[49m\u001b[43mepsrel\u001b[49m\u001b[43m,\u001b[49m\u001b[43m \u001b[49m\u001b[43mlimit\u001b[49m\u001b[43m,\u001b[49m\n\u001b[1;32m    464\u001b[0m \u001b[43m                   \u001b[49m\u001b[43mpoints\u001b[49m\u001b[43m)\u001b[49m\n\u001b[1;32m    465\u001b[0m \u001b[38;5;28;01melse\u001b[39;00m:\n\u001b[1;32m    466\u001b[0m     \u001b[38;5;28;01mif\u001b[39;00m points \u001b[38;5;129;01mis\u001b[39;00m \u001b[38;5;129;01mnot\u001b[39;00m \u001b[38;5;28;01mNone\u001b[39;00m:\n",
      "File \u001b[0;32m/Library/Frameworks/Python.framework/Versions/3.8/lib/python3.8/site-packages/scipy/integrate/_quadpack_py.py:575\u001b[0m, in \u001b[0;36m_quad\u001b[0;34m(func, a, b, args, full_output, epsabs, epsrel, limit, points)\u001b[0m\n\u001b[1;32m    573\u001b[0m \u001b[38;5;28;01mif\u001b[39;00m points \u001b[38;5;129;01mis\u001b[39;00m \u001b[38;5;28;01mNone\u001b[39;00m:\n\u001b[1;32m    574\u001b[0m     \u001b[38;5;28;01mif\u001b[39;00m infbounds \u001b[38;5;241m==\u001b[39m \u001b[38;5;241m0\u001b[39m:\n\u001b[0;32m--> 575\u001b[0m         \u001b[38;5;28;01mreturn\u001b[39;00m \u001b[43m_quadpack\u001b[49m\u001b[38;5;241;43m.\u001b[39;49m\u001b[43m_qagse\u001b[49m\u001b[43m(\u001b[49m\u001b[43mfunc\u001b[49m\u001b[43m,\u001b[49m\u001b[43ma\u001b[49m\u001b[43m,\u001b[49m\u001b[43mb\u001b[49m\u001b[43m,\u001b[49m\u001b[43margs\u001b[49m\u001b[43m,\u001b[49m\u001b[43mfull_output\u001b[49m\u001b[43m,\u001b[49m\u001b[43mepsabs\u001b[49m\u001b[43m,\u001b[49m\u001b[43mepsrel\u001b[49m\u001b[43m,\u001b[49m\u001b[43mlimit\u001b[49m\u001b[43m)\u001b[49m\n\u001b[1;32m    576\u001b[0m     \u001b[38;5;28;01melse\u001b[39;00m:\n\u001b[1;32m    577\u001b[0m         \u001b[38;5;28;01mreturn\u001b[39;00m _quadpack\u001b[38;5;241m.\u001b[39m_qagie(func,bound,infbounds,args,full_output,epsabs,epsrel,limit)\n",
      "\u001b[0;31mValueError\u001b[0m: invalid callable given"
     ]
    }
   ],
   "source": [
    "integral, _ = quad(y3, min(x), max(x))"
   ]
  },
  {
   "cell_type": "code",
   "execution_count": 395,
   "id": "f0ccda00",
   "metadata": {},
   "outputs": [],
   "source": [
    "result,error = quad(integrand, min(x), max(x), args=(1,2,3))"
   ]
  },
  {
   "cell_type": "code",
   "execution_count": 396,
   "id": "96a24dbe",
   "metadata": {},
   "outputs": [
    {
     "data": {
      "text/plain": [
       "(7239.0, 8.036904475261508e-11)"
      ]
     },
     "execution_count": 396,
     "metadata": {},
     "output_type": "execute_result"
    }
   ],
   "source": [
    "result, error"
   ]
  },
  {
   "cell_type": "code",
   "execution_count": 393,
   "id": "78d7ce73",
   "metadata": {},
   "outputs": [],
   "source": [
    "result, error = quad(lambda x,a,b,c: a + b*x + c*x**2, min(x), max(x), args=(1,2,3))"
   ]
  },
  {
   "cell_type": "code",
   "execution_count": 394,
   "id": "ee41918c",
   "metadata": {},
   "outputs": [
    {
     "data": {
      "text/plain": [
       "(7239.0, 8.036904475261508e-11)"
      ]
     },
     "execution_count": 394,
     "metadata": {},
     "output_type": "execute_result"
    }
   ],
   "source": [
    "result, error"
   ]
  },
  {
   "cell_type": "markdown",
   "id": "f7fc955c",
   "metadata": {},
   "source": [
    "# Monte carlo Integration"
   ]
  },
  {
   "cell_type": "code",
   "execution_count": 637,
   "id": "95b58dcd",
   "metadata": {},
   "outputs": [
    {
     "data": {
      "text/plain": [
       "Text(0, 0.5, 'samples')"
      ]
     },
     "execution_count": 637,
     "metadata": {},
     "output_type": "execute_result"
    },
    {
     "data": {
      "image/png": "[encoded data removed]",
      "text/plain": [
       "<Figure size 640x480 with 1 Axes>"
      ]
     },
     "metadata": {},
     "output_type": "display_data"
    }
   ],
   "source": [
    "import scipy.stats as st\n",
    "# target function\n",
    "def p(x):\n",
    "    return (x-8)**2 + 1\n",
    "#Gaussian function\n",
    "def gauss(x, mu = 8, sig= 0.4):\n",
    "    return (\n",
    "        1.0 / (np.sqrt(2.0 * np.pi) * sig) * np.exp(-(x - mu)**2 / sig**2/2) \n",
    "    )\n",
    "# proposal function\n",
    "def q(x):\n",
    "    return st.uniform.pdf(x,loc=6,scale=4)\n",
    "# range of interest\n",
    "x = np.linspace(6, 10,100)\n",
    "# maximum scaling for proposal function\n",
    "k = max(p(x) / q(x))\n",
    "# 1) throw a point in this region (between 6 and 10)\n",
    "# 2) calculate y value of random point (scaled by maximum)\n",
    "# 3) decide if point is inside distribution (keep) or outside (reject)\n",
    "def rejection_sampling(n=1000):\n",
    "    samples = []\n",
    "    all_points = []\n",
    "    \n",
    "    while len(samples) < n:\n",
    "        z = np.random.uniform(low=6,high=10)\n",
    "        u = np.random.uniform(0, k*q(z))\n",
    "        all_points.append([z,u])\n",
    "        \n",
    "        if u <= p(z):\n",
    "            samples.append(z)\n",
    "    return np.array(samples),np.array(all_points)\n",
    "# sample 100 points\n",
    "toy_sample = rejection_sampling(10000)\n",
    "# rejection sampling algorithm:\n",
    "# keep those which are below the line\n",
    "keep = toy_sample[1][:,1]<=p(toy_sample[1][:,0])\n",
    "# reject those above\n",
    "reject = toy_sample[1][:,1]>p(toy_sample[1][:,0])\n",
    "plt.plot(toy_sample[1][:,0],toy_sample[1][:,1],'o')\n",
    "plt.plot(toy_sample[1][reject,0],toy_sample[1][reject,1],'ro')\n",
    "plt.plot(toy_sample[1][keep,0],toy_sample[1][keep,1],'go')\n",
    "plt.plot(x,p(x),color='blue',linewidth=3)\n",
    "plt.xlabel(r\"$r$\")\n",
    "plt.ylabel(r\"samples\")\n",
    "\n"
   ]
  },
  {
   "cell_type": "code",
   "execution_count": 600,
   "id": "c9cbbb70",
   "metadata": {},
   "outputs": [
    {
     "data": {
      "text/plain": [
       "Text(0, 0.5, \"$\\\\rho'(r)$\")"
      ]
     },
     "execution_count": 600,
     "metadata": {},
     "output_type": "execute_result"
    },
    {
     "data": {
      "image/png": "[encoded data removed]",
      "text/plain": [
       "<Figure size 640x480 with 1 Axes>"
      ]
     },
     "metadata": {},
     "output_type": "display_data"
    }
   ],
   "source": [
    "# sample 10000 points to get a useful distribution\n",
    "plt.hist(toy_sample[0],bins=x,density=True);\n",
    "plt.plot(x,p(x)/np.sum(p(x))/np.diff(x)[0])\n",
    "plt.xlabel(r\"$r$\")\n",
    "plt.ylabel(r\"$\\rho'(r)$\")"
   ]
  },
  {
   "cell_type": "code",
   "execution_count": 638,
   "id": "560f7bc9",
   "metadata": {},
   "outputs": [
    {
     "data": {
      "text/plain": [
       "9.314456035767511"
      ]
     },
     "execution_count": 638,
     "metadata": {},
     "output_type": "execute_result"
    }
   ],
   "source": [
    "area_under_the_curve = len(toy_sample[1][keep,1])/len(toy_sample[1])*k\n",
    "area_under_the_curve"
   ]
  },
  {
   "cell_type": "code",
   "execution_count": 644,
   "id": "226ce2e7",
   "metadata": {},
   "outputs": [
    {
     "data": {
      "text/plain": [
       "Text(0, 0.5, 'samples')"
      ]
     },
     "execution_count": 644,
     "metadata": {},
     "output_type": "execute_result"
    },
    {
     "data": {
      "image/png": "[encoded data removed]",
      "text/plain": [
       "<Figure size 640x480 with 1 Axes>"
      ]
     },
     "metadata": {},
     "output_type": "display_data"
    }
   ],
   "source": [
    "# target function\n",
    "def p(x):\n",
    "    return (x-8)**2 + 1\n",
    "#Gaussian function\n",
    "def gauss(x, mu = 8, sig= 0.4):\n",
    "    return (\n",
    "        1.0 / (np.sqrt(2.0 * np.pi) * sig) * np.exp(-(x - mu)**2 / sig**2/2) \n",
    "    )\n",
    "# proposal function\n",
    "def q(x):\n",
    "    return st.uniform.pdf(x,loc=6,scale=4)\n",
    "# range of interest\n",
    "x = np.linspace(6, 10,100)\n",
    "# maximum scaling for proposal function\n",
    "k = max(gauss(x) / q(x))\n",
    "# 1) throw a point in this region (between 6 and 10)\n",
    "# 2) calculate y value of random point (scaled by maximum)\n",
    "# 3) decide if point is inside distribution (keep) or outside (reject)\n",
    "def rejection_sampling(n=1000):\n",
    "    samples = []\n",
    "    all_points = []\n",
    "    \n",
    "    while len(samples) < n:\n",
    "        z = np.random.uniform(low=6,high=10)\n",
    "        u = np.random.uniform(0, k*q(z))\n",
    "        all_points.append([z,u])\n",
    "        \n",
    "        if u <= gauss(z):\n",
    "            samples.append(z)\n",
    "    return np.array(samples),np.array(all_points)\n",
    "# sample 100 points\n",
    "toy_sample = rejection_sampling(10000)\n",
    "# rejection sampling algorithm:\n",
    "# keep those which are below the line\n",
    "keep = toy_sample[1][:,1]<=gauss(toy_sample[1][:,0])\n",
    "# reject those above\n",
    "reject = toy_sample[1][:,1]>gauss(toy_sample[1][:,0])\n",
    "plt.plot(toy_sample[1][:,0],toy_sample[1][:,1],'o')\n",
    "plt.plot(toy_sample[1][reject,0],toy_sample[1][reject,1],'ro')\n",
    "plt.plot(toy_sample[1][keep,0],toy_sample[1][keep,1],'go')\n",
    "plt.plot(x,gauss(x),color='blue',linewidth=3)\n",
    "plt.xlabel(r\"$r$\")\n",
    "plt.ylabel(r\"samples\")\n",
    "\n"
   ]
  },
  {
   "cell_type": "code",
   "execution_count": 645,
   "id": "c74d81dc",
   "metadata": {},
   "outputs": [
    {
     "data": {
      "text/plain": [
       "Text(0, 0.5, \"$\\\\rho'(r)$\")"
      ]
     },
     "execution_count": 645,
     "metadata": {},
     "output_type": "execute_result"
    },
    {
     "data": {
      "image/png": "[encoded data removed]",
      "text/plain": [
       "<Figure size 640x480 with 1 Axes>"
      ]
     },
     "metadata": {},
     "output_type": "display_data"
    }
   ],
   "source": [
    "# sample 10000 points to get a useful distribution\n",
    "plt.hist(toy_sample[0],bins=x,density=True);\n",
    "plt.plot(x,gauss(x)/np.sum(gauss(x))/np.diff(x)[0])\n",
    "plt.xlabel(r\"$r$\")\n",
    "plt.ylabel(r\"$\\rho'(r)$\")"
   ]
  },
  {
   "cell_type": "code",
   "execution_count": 646,
   "id": "76ae2752",
   "metadata": {},
   "outputs": [
    {
     "data": {
      "text/plain": [
       "1.0083102662061154"
      ]
     },
     "execution_count": 646,
     "metadata": {},
     "output_type": "execute_result"
    }
   ],
   "source": [
    "area_under_the_curve = len(toy_sample[1][keep,1])/len(toy_sample[1])*k\n",
    "area_under_the_curve"
   ]
  },
  {
   "cell_type": "code",
   "execution_count": null,
   "id": "fd692de8",
   "metadata": {},
   "outputs": [],
   "source": []
  }
 ],
 "metadata": {
  "kernelspec": {
   "display_name": "Python 3 (ipykernel)",
   "language": "python",
   "name": "python3"
  },
  "language_info": {
   "codemirror_mode": {
    "name": "ipython",
    "version": 3
   },
   "file_extension": ".py",
   "mimetype": "text/x-python",
   "name": "python",
   "nbconvert_exporter": "python",
   "pygments_lexer": "ipython3",
   "version": "3.8.1"
  }
 },
 "nbformat": 4,
 "nbformat_minor": 5
}
